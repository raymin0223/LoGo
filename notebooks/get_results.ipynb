{
 "cells": [
  {
   "cell_type": "code",
   "execution_count": null,
   "metadata": {},
   "outputs": [],
   "source": [
    "import os\n",
    "os.chdir('../')\n",
    "import pandas as pd"
   ]
  },
  {
   "cell_type": "code",
   "execution_count": null,
   "metadata": {},
   "outputs": [],
   "source": [
    "# change arguments\n",
    "seed = 0\n",
    "dataset = 'cifar10'\n",
    "dir_beta = 0.1\n",
    "rquery = 0.050\n",
    "reset = 'random_init'\n",
    "model = 'cnn4conv'\n",
    "base_dir = '.'\n",
    "fl_algo = 'fedprox'\n",
    "\n",
    "if dataset == 'cifar10':\n",
    "    end_index = 17\n",
    "else:\n",
    "    end_index = 13"
   ]
  },
  {
   "cell_type": "code",
   "execution_count": null,
   "metadata": {},
   "outputs": [],
   "source": [
    "al_method_lst  = ['radnom', 'entropy', 'coreset', 'badge', 'gcnal', 'alfa_mix', 'logo']\n",
    "\n",
    "data_ratio = ['{0:.3f}'.format(i * rquery) for i in range(1, end_index)]"
   ]
  },
  {
   "cell_type": "code",
   "execution_count": null,
   "metadata": {},
   "outputs": [],
   "source": [
    "result_dict = {'global': {}, 'local_only': {}}\n",
    "for k, v in result_dict.items():\n",
    "    result_dict[k] = {al_method: [] for al_method in al_method_lst}\n",
    "\n",
    "qmodes = ['global', 'local_only']\n",
    "for qmode in qmodes:\n",
    "    for al_method in al_method_lst:\n",
    "        if al_method == 'random' and qmode == 'local_only':\n",
    "            del result_dict['local_only']['random']\n",
    "            continue\n",
    "        if al_method == 'logo' and qmode == 'local_only': \n",
    "            del result_dict['local_only']['logo']\n",
    "            continue\n",
    "\n",
    "        for ratio in data_ratio:\n",
    "            path = \"{}/save/{}/{}/{}_num10_C1.0_r100_le5_rquery{:.3f}/dir_balance_{}/seed{}/reset_{}/qmode_{}/{}/label_ratio{}/results.csv\".format(base_dir, fl_algo, dataset, model, rquery, dir_beta, seed, reset, qmode, al_method, ratio)\n",
    "            acc_mean = pd.read_csv(path)['acc_test'][-5:].mean()\n",
    "            \n",
    "            result_dict[qmode][al_method].append(acc_mean)"
   ]
  },
  {
   "cell_type": "code",
   "execution_count": null,
   "metadata": {},
   "outputs": [],
   "source": [
    "df = pd.DataFrame(columns=range(len(data_ratio)))\n",
    "\n",
    "for qmode in qmodes:\n",
    "    result = result_dict[qmode]\n",
    "    for k, v in result.items():\n",
    "        print(qmode, k)\n",
    "        df.loc[len(df.index)] = v\n",
    "\n",
    "df.head(10)"
   ]
  },
  {
   "cell_type": "code",
   "execution_count": null,
   "metadata": {},
   "outputs": [],
   "source": [
    "df.to_excel('results.xlsx', index=False)"
   ]
  }
 ],
 "metadata": {
  "interpreter": {
   "hash": "cccaef82bcf787519d07b46718eb42a818cb00873f8acd511d766c09f803d755"
  },
  "kernelspec": {
   "display_name": "Python 3.7.13 ('fed_al')",
   "language": "python",
   "name": "python3"
  },
  "language_info": {
   "codemirror_mode": {
    "name": "ipython",
    "version": 3
   },
   "file_extension": ".py",
   "mimetype": "text/x-python",
   "name": "python",
   "nbconvert_exporter": "python",
   "pygments_lexer": "ipython3",
   "version": "3.9.16"
  },
  "orig_nbformat": 4
 },
 "nbformat": 4,
 "nbformat_minor": 2
}
