{
 "cells": [
  {
   "cell_type": "code",
   "execution_count": null,
   "id": "49668477-e91a-4be9-9584-01f78ddd3931",
   "metadata": {},
   "outputs": [],
   "source": [
    "import os\n",
    "os.chdir('../')\n",
    "import itertools\n",
    "import numpy as np\n",
    "import pandas as pd\n",
    "import seaborn as sns\n",
    "import matplotlib.pyplot as plt"
   ]
  },
  {
   "cell_type": "code",
   "execution_count": null,
   "id": "41802d1a-ced1-4ac6-af4e-d83f3a7a46a7",
   "metadata": {},
   "outputs": [],
   "source": [
    "exp_combination = [\n",
    "    # Default Case\n",
    "    {\"Dataset\": \"CIFAR10\", \"Model\": \"CNN4Conv\", \"Dir\": \"0.1\", \"Buget Size\": \"5%\", \"Model Init\": \"Random\", \"Query Selector\": \"Global\"},\n",
    "    {\"Dataset\": \"SVHN\", \"Model\": \"CNN4Conv\", \"Dir\": \"0.1\", \"Buget Size\": \"5%\", \"Model Init\": \"Random\", \"Query Selector\": \"Global\"},\n",
    "    {\"Dataset\": \"PATHMNIST\", \"Model\": \"CNN4Conv\", \"Dir\": \"0.1\", \"Buget Size\": \"5%\", \"Model Init\": \"Random\", \"Query Selector\": \"Global\"},\n",
    "    {\"Dataset\": \"ORGANAMNIST\", \"Model\": \"CNN4Conv\", \"Dir\": \"0.1\", \"Buget Size\": \"5%\", \"Model Init\": \"Random\", \"Query Selector\": \"Global\"},\n",
    "    {\"Dataset\": \"DERMAMNIST\", \"Model\": \"CNN4Conv\", \"Dir\": \"0.1\", \"Buget Size\": \"5%\", \"Model Init\": \"Random\", \"Query Selector\": \"Global\"},\n",
    "    {\"Dataset\": \"CIFAR10\", \"Model\": \"CNN4Conv\", \"Dir\": \"0.1\", \"Buget Size\": \"5%\", \"Model Init\": \"Random\", \"Query Selector\": \"Local Only\"},\n",
    "    {\"Dataset\": \"SVHN\", \"Model\": \"CNN4Conv\", \"Dir\": \"0.1\", \"Buget Size\": \"5%\", \"Model Init\": \"Random\", \"Query Selector\": \"Local Only\"}, \n",
    "    {\"Dataset\": \"PATHMNIST\", \"Model\": \"CNN4Conv\", \"Dir\": \"0.1\", \"Buget Size\": \"5%\", \"Model Init\": \"Random\", \"Query Selector\": \"Local Only\"},    \n",
    "    {\"Dataset\": \"ORGANAMNIST\", \"Model\": \"CNN4Conv\", \"Dir\": \"0.1\", \"Buget Size\": \"5%\", \"Model Init\": \"Random\", \"Query Selector\": \"Local Only\"},\n",
    "    {\"Dataset\": \"DERMAMNIST\", \"Model\": \"CNN4Conv\", \"Dir\": \"0.1\", \"Buget Size\": \"5%\", \"Model Init\": \"Random\", \"Query Selector\": \"Local Only\"},\n",
    "]"
   ]
  },
  {
   "cell_type": "code",
   "execution_count": null,
   "id": "59326eb2-2229-4884-9923-739b2fd01cee",
   "metadata": {},
   "outputs": [],
   "source": [
    "df = pd.read_csv(\"./final_results.csv\", dtype=str)"
   ]
  },
  {
   "cell_type": "code",
   "execution_count": null,
   "id": "2c93a501-ed64-498b-aafe-2c6e95c49e28",
   "metadata": {},
   "outputs": [],
   "source": [
    "algorithms = [\"LoGo\", 'Random', \"Entropy\", \"CoreSet\", 'Badge', \"GCNAL\", \"ALFA-Mix\" ]"
   ]
  },
  {
   "cell_type": "code",
   "execution_count": null,
   "id": "9d18f7e5-3f75-4120-ae22-33b0be8f1fba",
   "metadata": {},
   "outputs": [],
   "source": [
    "comparison_matrix = pd.DataFrame(np.zeros((len(algorithms), len(algorithms))))\n",
    "comparison_matrix.columns = algorithms\n",
    "comparison_matrix.index = algorithms\n",
    "# comparison_matrix[\"Random\"][\"Badge\"]"
   ]
  },
  {
   "cell_type": "code",
   "execution_count": null,
   "id": "c9a8f6f6-ca6b-4b3c-8d41-2f865f7af9eb",
   "metadata": {},
   "outputs": [],
   "source": [
    "seed_cnt = 4\n",
    "\n",
    "for exp in exp_combination:\n",
    "    print(exp)\n",
    "    temp_df = df\n",
    "    \n",
    "    for k, v in exp.items():\n",
    "        temp_df = temp_df[temp_df[k] == v]\n",
    "\n",
    "    per_algorithm = list(itertools.permutations(algorithms, 2))\n",
    "    \n",
    "    for algo1 in algorithms:\n",
    "        for algo2 in algorithms:\n",
    "            # print(\"-\"* 20)\n",
    "            # print(algo1, algo2)\n",
    "            defeat_cnt = 0\n",
    "\n",
    "            algo1_lst = []\n",
    "            algo2_lst = []\n",
    "\n",
    "            for seed in range(1, seed_cnt + 1):\n",
    "                # Algorithm 1 acc\n",
    "                acc_lst = [float(acc) for acc in temp_df[(temp_df['Seed']==str(seed)) & (temp_df['Algorithm']==algo1)]['Acc'].values[0].split()]\n",
    "                algo1_lst.append(acc_lst)\n",
    "\n",
    "                # Algorithm 2 acc\n",
    "                acc_lst = [float(acc) for acc in temp_df[(temp_df['Seed']==str(seed)) & (temp_df['Algorithm']==algo2)]['Acc'].values[0].split()]\n",
    "                algo2_lst.append(acc_lst)\n",
    "\n",
    "            num_label_set = len(acc_lst)\n",
    "\n",
    "            for i in range(1, num_label_set):\n",
    "                algo1_v_lst = [temp_lst[i] for temp_lst in algo1_lst]\n",
    "                algo2_v_lst = [temp_lst[i] for temp_lst in algo2_lst]\n",
    "\n",
    "                mean = np.mean([a1_v - a2_v for a1_v, a2_v in zip(algo1_v_lst, algo2_v_lst)])\n",
    "                std = np.sqrt(sum([(a1_v - a2_v - mean)**2 for a1_v, a2_v in zip(algo1_v_lst, algo2_v_lst)]) / (seed_cnt-1))\n",
    "\n",
    "                t_v = np.sqrt(seed_cnt) * mean / std\n",
    "\n",
    "                if t_v > 2.776:\n",
    "                    defeat_cnt += 1\n",
    "\n",
    "            # print(algo1, algo2, defeat_cnt / num_label_set)\n",
    "            comparison_matrix[algo1][algo2] += defeat_cnt / num_label_set\n",
    "            \n",
    "            # print(defeat_cnt / num_label_set)\n"
   ]
  },
  {
   "cell_type": "code",
   "execution_count": null,
   "id": "d613ff9d-a9ba-451a-8606-2f76609c2ef5",
   "metadata": {},
   "outputs": [],
   "source": [
    "comparison_matrix"
   ]
  },
  {
   "cell_type": "code",
   "execution_count": null,
   "id": "84f49667-427f-4d9a-8ed8-e406c176ef7a",
   "metadata": {},
   "outputs": [],
   "source": [
    "ax = sns.heatmap(comparison_matrix.T, annot=True,  cmap=\"viridis\")\n",
    "plt.tick_params(axis='both', which='major', labelsize=10, labelbottom = False, bottom=False, top = False, labeltop=True)\n",
    "plt.yticks(rotation=0)\n",
    "plt.xticks(rotation=45)\n",
    "plt.show()"
   ]
  }
 ],
 "metadata": {
  "kernelspec": {
   "display_name": "Python 3 (ipykernel)",
   "language": "python",
   "name": "python3"
  },
  "language_info": {
   "codemirror_mode": {
    "name": "ipython",
    "version": 3
   },
   "file_extension": ".py",
   "mimetype": "text/x-python",
   "name": "python",
   "nbconvert_exporter": "python",
   "pygments_lexer": "ipython3",
   "version": "3.9.16"
  }
 },
 "nbformat": 4,
 "nbformat_minor": 5
}
